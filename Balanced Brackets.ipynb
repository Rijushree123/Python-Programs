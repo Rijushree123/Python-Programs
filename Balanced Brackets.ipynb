{
 "cells": [
  {
   "cell_type": "markdown",
   "metadata": {},
   "source": [
    "# Using Stack"
   ]
  },
  {
   "cell_type": "code",
   "execution_count": 1,
   "metadata": {},
   "outputs": [
    {
     "name": "stdout",
     "output_type": "stream",
     "text": [
      "{{{{{{])\n",
      "{{{{{{]) - Unbalanced\n",
      "{}()[]\n",
      "{}()[] - Balanced\n",
      "(((}}}}) - Unbalanced\n"
     ]
    }
   ],
   "source": [
    "# Python3 code to Check for  \n",
    "# balanced parentheses in an expression \n",
    "open_list = [\"[\",\"{\",\"(\"] \n",
    "close_list = [\"]\",\"}\",\")\"] \n",
    "  \n",
    "# Function to check parentheses \n",
    "def check(myStr): \n",
    "    stack = [] \n",
    "    for i in myStr: \n",
    "        if i in open_list: \n",
    "            stack.append(i) \n",
    "        elif i in close_list: \n",
    "            pos = close_list.index(i) \n",
    "            if ((len(stack) > 0) and\n",
    "                (open_list[pos] == stack[len(stack)-1])): \n",
    "                stack.pop() \n",
    "            else: \n",
    "                return \"Unbalanced\"\n",
    "    if len(stack) == 0: \n",
    "        return \"Balanced\"\n",
    "    else: \n",
    "        return \"Unbalanced\"\n",
    "  \n",
    "\n",
    "# Driver code \n",
    "str=input()\n",
    "print(str,\"-\", check(str)) \n",
    "  \n",
    "str1=input()\n",
    "print(str1,\"-\", check(str1)) \n",
    "  \n",
    "string = \"(((}}}})\"\n",
    "print(string,\"-\",check(string)) \n"
   ]
  },
  {
   "cell_type": "markdown",
   "metadata": {},
   "source": [
    "# Using Queue"
   ]
  },
  {
   "cell_type": "code",
   "execution_count": 2,
   "metadata": {},
   "outputs": [
    {
     "name": "stdout",
     "output_type": "stream",
     "text": [
      "{[]{()}} - Balanced\n",
      "((() - Unbalanced\n"
     ]
    }
   ],
   "source": [
    "# Python3 code to Check for  \n",
    "# balanced parentheses in an expression \n",
    "def check(expression): \n",
    "      \n",
    "    open_tup = tuple('({[') \n",
    "    close_tup = tuple(')}]') \n",
    "    map = dict(zip(open_tup, close_tup)) \n",
    "    queue = [] \n",
    "  \n",
    "    for i in expression: \n",
    "        if i in open_tup: \n",
    "            queue.append(map[i]) \n",
    "        elif i in close_tup: \n",
    "            if not queue or i != queue.pop(): \n",
    "                return \"Unbalanced\"\n",
    "    if not queue: \n",
    "        return \"Balanced\"\n",
    "    else: \n",
    "        return \"Unbalanced\"\n",
    "  \n",
    "# Driver code \n",
    "string = \"{[]{()}}\"\n",
    "print(string, \"-\", check(string)) \n",
    "  \n",
    "string = \"((()\"\n",
    "print(string,\"-\",check(string)) \n"
   ]
  },
  {
   "cell_type": "markdown",
   "metadata": {},
   "source": [
    "# Elimination based"
   ]
  },
  {
   "cell_type": "code",
   "execution_count": 4,
   "metadata": {},
   "outputs": [
    {
     "name": "stdout",
     "output_type": "stream",
     "text": [
      "{[]{()}} - Balanced\n"
     ]
    }
   ],
   "source": [
    "# Python3 code to Check for  \n",
    "# balanced parentheses in an expression \n",
    "def check(my_string): \n",
    "    brackets = ['()', '{}', '[]'] \n",
    "    while any(x in my_string for x in brackets): \n",
    "        for br in brackets: \n",
    "            my_string = my_string.replace(br, '') \n",
    "    return not my_string \n",
    "   \n",
    "# Driver code \n",
    "string = \"{[]{()}}\"\n",
    "print(string, \"-\", \"Balanced\" \n",
    "      if check(string) else \"Unbalanced\") "
   ]
  },
  {
   "cell_type": "code",
   "execution_count": null,
   "metadata": {},
   "outputs": [],
   "source": []
  }
 ],
 "metadata": {
  "kernelspec": {
   "display_name": "Python 3",
   "language": "python",
   "name": "python3"
  },
  "language_info": {
   "codemirror_mode": {
    "name": "ipython",
    "version": 3
   },
   "file_extension": ".py",
   "mimetype": "text/x-python",
   "name": "python",
   "nbconvert_exporter": "python",
   "pygments_lexer": "ipython3",
   "version": "3.7.4"
  }
 },
 "nbformat": 4,
 "nbformat_minor": 2
}
